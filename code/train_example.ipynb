{
 "cells": [
  {
   "cell_type": "code",
   "execution_count": null,
   "id": "98be2a94",
   "metadata": {},
   "outputs": [],
   "source": [
    "import os\n",
    "#from generating_method import generating_method\n",
    "os.environ[\"CUDA_VISIBLE_DEVICES\"]= \"1\"\n",
    "\n",
    "#from model.dcgan import dcgan_train\n",
    "#from model.wgan import wgan_train\n",
    "#from model.ddpm.ddpm import ddpm _train\n",
    "from model.ddim import ddim_train\n",
    "\n",
    "\n",
    "\n",
    "datasets = [\"viridis\"] # mnist, fashion_mnist, cifar10, cifar100\n",
    "corruptions = [\"identity\",\"fog\",\"shot_noise\", \"impulse_noise\", \"glass_blur\", \"motion_blur\",\"brightness\",\"spatter\"]\n",
    "\n",
    "num_imgs = 5000\n",
    "\n",
    "for dataset in datasets:\n",
    "    for corruption in corruptions:\n",
    "        ddim_train(dataset, corruption)\n",
    "#        ddpm_train(dataset, corruption)"
   ]
  }
 ],
 "metadata": {
  "kernelspec": {
   "display_name": "KWBAE",
   "language": "python",
   "name": "kwbae"
  },
  "language_info": {
   "codemirror_mode": {
    "name": "ipython",
    "version": 3
   },
   "file_extension": ".py",
   "mimetype": "text/x-python",
   "name": "python",
   "nbconvert_exporter": "python",
   "pygments_lexer": "ipython3",
   "version": "3.9.15"
  }
 },
 "nbformat": 4,
 "nbformat_minor": 5
}
